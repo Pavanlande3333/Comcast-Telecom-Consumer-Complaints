{
 "cells": [
  {
   "cell_type": "code",
   "execution_count": 4,
   "id": "0f3bf92d",
   "metadata": {},
   "outputs": [],
   "source": [
    "import pandas as pd\n",
    "import numpy as np\n",
    "import matplotlib.pyplot as plt\n",
    "import seaborn as sns\n",
    "%matplotlib inline"
   ]
  },
  {
   "cell_type": "markdown",
   "id": "d0960280",
   "metadata": {},
   "source": [
    "### TASK 1:->  Import data into Python environment."
   ]
  },
  {
   "cell_type": "code",
   "execution_count": 5,
   "id": "af2fd075",
   "metadata": {},
   "outputs": [],
   "source": [
    "df = pd.read_csv(r'C:\\Users\\Pavan Lande\\Downloads\\1568699544_comcast_telecom_complaints_data\\Comcast_telecom_complaints_data.csv')"
   ]
  },
  {
   "cell_type": "code",
   "execution_count": 17,
   "id": "e5cc7d15",
   "metadata": {},
   "outputs": [
    {
     "name": "stdout",
     "output_type": "stream",
     "text": [
      "Ticket #                       0\n",
      "Customer Complaint             0\n",
      "Date                           0\n",
      "Date_month_year                0\n",
      "Time                           0\n",
      "Received Via                   0\n",
      "City                           0\n",
      "State                          0\n",
      "Zip code                       0\n",
      "Status                         0\n",
      "Filing on Behalf of Someone    0\n",
      "date_col                       0\n",
      "month                          0\n",
      "day                            0\n",
      "dtype: int64\n"
     ]
    }
   ],
   "source": [
    "print(df.isnull().sum())"
   ]
  },
  {
   "cell_type": "code",
   "execution_count": 18,
   "id": "d08a99c9",
   "metadata": {},
   "outputs": [
    {
     "data": {
      "text/plain": [
       "(2224, 14)"
      ]
     },
     "execution_count": 18,
     "metadata": {},
     "output_type": "execute_result"
    }
   ],
   "source": [
    "df.shape"
   ]
  },
  {
   "cell_type": "code",
   "execution_count": 6,
   "id": "5b8218a9",
   "metadata": {},
   "outputs": [
    {
     "data": {
      "text/html": [
       "<div>\n",
       "<style scoped>\n",
       "    .dataframe tbody tr th:only-of-type {\n",
       "        vertical-align: middle;\n",
       "    }\n",
       "\n",
       "    .dataframe tbody tr th {\n",
       "        vertical-align: top;\n",
       "    }\n",
       "\n",
       "    .dataframe thead th {\n",
       "        text-align: right;\n",
       "    }\n",
       "</style>\n",
       "<table border=\"1\" class=\"dataframe\">\n",
       "  <thead>\n",
       "    <tr style=\"text-align: right;\">\n",
       "      <th></th>\n",
       "      <th>Ticket #</th>\n",
       "      <th>Customer Complaint</th>\n",
       "      <th>Date</th>\n",
       "      <th>Date_month_year</th>\n",
       "      <th>Time</th>\n",
       "      <th>Received Via</th>\n",
       "      <th>City</th>\n",
       "      <th>State</th>\n",
       "      <th>Zip code</th>\n",
       "      <th>Status</th>\n",
       "      <th>Filing on Behalf of Someone</th>\n",
       "    </tr>\n",
       "  </thead>\n",
       "  <tbody>\n",
       "    <tr>\n",
       "      <th>0</th>\n",
       "      <td>250635</td>\n",
       "      <td>Comcast Cable Internet Speeds</td>\n",
       "      <td>22-04-15</td>\n",
       "      <td>22-Apr-15</td>\n",
       "      <td>3:53:50 PM</td>\n",
       "      <td>Customer Care Call</td>\n",
       "      <td>Abingdon</td>\n",
       "      <td>Maryland</td>\n",
       "      <td>21009</td>\n",
       "      <td>Closed</td>\n",
       "      <td>No</td>\n",
       "    </tr>\n",
       "    <tr>\n",
       "      <th>1</th>\n",
       "      <td>223441</td>\n",
       "      <td>Payment disappear - service got disconnected</td>\n",
       "      <td>04-08-15</td>\n",
       "      <td>04-Aug-15</td>\n",
       "      <td>10:22:56 AM</td>\n",
       "      <td>Internet</td>\n",
       "      <td>Acworth</td>\n",
       "      <td>Georgia</td>\n",
       "      <td>30102</td>\n",
       "      <td>Closed</td>\n",
       "      <td>No</td>\n",
       "    </tr>\n",
       "    <tr>\n",
       "      <th>2</th>\n",
       "      <td>242732</td>\n",
       "      <td>Speed and Service</td>\n",
       "      <td>18-04-15</td>\n",
       "      <td>18-Apr-15</td>\n",
       "      <td>9:55:47 AM</td>\n",
       "      <td>Internet</td>\n",
       "      <td>Acworth</td>\n",
       "      <td>Georgia</td>\n",
       "      <td>30101</td>\n",
       "      <td>Closed</td>\n",
       "      <td>Yes</td>\n",
       "    </tr>\n",
       "    <tr>\n",
       "      <th>3</th>\n",
       "      <td>277946</td>\n",
       "      <td>Comcast Imposed a New Usage Cap of 300GB that ...</td>\n",
       "      <td>05-07-15</td>\n",
       "      <td>05-Jul-15</td>\n",
       "      <td>11:59:35 AM</td>\n",
       "      <td>Internet</td>\n",
       "      <td>Acworth</td>\n",
       "      <td>Georgia</td>\n",
       "      <td>30101</td>\n",
       "      <td>Open</td>\n",
       "      <td>Yes</td>\n",
       "    </tr>\n",
       "    <tr>\n",
       "      <th>4</th>\n",
       "      <td>307175</td>\n",
       "      <td>Comcast not working and no service to boot</td>\n",
       "      <td>26-05-15</td>\n",
       "      <td>26-May-15</td>\n",
       "      <td>1:25:26 PM</td>\n",
       "      <td>Internet</td>\n",
       "      <td>Acworth</td>\n",
       "      <td>Georgia</td>\n",
       "      <td>30101</td>\n",
       "      <td>Solved</td>\n",
       "      <td>No</td>\n",
       "    </tr>\n",
       "  </tbody>\n",
       "</table>\n",
       "</div>"
      ],
      "text/plain": [
       "  Ticket #                                 Customer Complaint      Date  \\\n",
       "0   250635                      Comcast Cable Internet Speeds  22-04-15   \n",
       "1   223441       Payment disappear - service got disconnected  04-08-15   \n",
       "2   242732                                  Speed and Service  18-04-15   \n",
       "3   277946  Comcast Imposed a New Usage Cap of 300GB that ...  05-07-15   \n",
       "4   307175         Comcast not working and no service to boot  26-05-15   \n",
       "\n",
       "  Date_month_year         Time        Received Via      City     State  \\\n",
       "0       22-Apr-15   3:53:50 PM  Customer Care Call  Abingdon  Maryland   \n",
       "1       04-Aug-15  10:22:56 AM            Internet   Acworth   Georgia   \n",
       "2       18-Apr-15   9:55:47 AM            Internet   Acworth   Georgia   \n",
       "3       05-Jul-15  11:59:35 AM            Internet   Acworth   Georgia   \n",
       "4       26-May-15   1:25:26 PM            Internet   Acworth   Georgia   \n",
       "\n",
       "   Zip code  Status Filing on Behalf of Someone  \n",
       "0     21009  Closed                          No  \n",
       "1     30102  Closed                          No  \n",
       "2     30101  Closed                         Yes  \n",
       "3     30101    Open                         Yes  \n",
       "4     30101  Solved                          No  "
      ]
     },
     "execution_count": 6,
     "metadata": {},
     "output_type": "execute_result"
    }
   ],
   "source": [
    "df.head()"
   ]
  },
  {
   "cell_type": "markdown",
   "id": "1dacf0e4",
   "metadata": {},
   "source": [
    "### TASK 2:-> Provide the trend chart for the number of complaints at monthly and daily granularity levels."
   ]
  },
  {
   "cell_type": "code",
   "execution_count": 13,
   "id": "1ecd3741",
   "metadata": {},
   "outputs": [],
   "source": [
    "df['date_col']= pd.to_datetime(df['Date_month_year'])\n",
    "df['month'] = df['date_col'].dt.month\n",
    "df['day'] = df['date_col'].dt.day"
   ]
  },
  {
   "cell_type": "code",
   "execution_count": 14,
   "id": "027dff10",
   "metadata": {},
   "outputs": [
    {
     "data": {
      "text/plain": [
       "<AxesSubplot:xlabel='month'>"
      ]
     },
     "execution_count": 14,
     "metadata": {},
     "output_type": "execute_result"
    },
    {
     "data": {
      "image/png": "[encoded data removed]",
      "text/plain": [
       "<Figure size 432x288 with 1 Axes>"
      ]
     },
     "metadata": {
      "needs_background": "light"
     },
     "output_type": "display_data"
    }
   ],
   "source": [
    "df[['month','Ticket #']].groupby('month').count().plot()"
   ]
  },
  {
   "cell_type": "code",
   "execution_count": 15,
   "id": "b5d21cae",
   "metadata": {},
   "outputs": [
    {
     "data": {
      "text/plain": [
       "<AxesSubplot:xlabel='day'>"
      ]
     },
     "execution_count": 15,
     "metadata": {},
     "output_type": "execute_result"
    },
    {
     "data": {
      "image/png": "[encoded data removed]",
      "text/plain": [
       "<Figure size 432x288 with 1 Axes>"
      ]
     },
     "metadata": {
      "needs_background": "light"
     },
     "output_type": "display_data"
    }
   ],
   "source": [
    "df[['day','Ticket #']].groupby('day').count().plot()"
   ]
  },
  {
   "cell_type": "markdown",
   "id": "312edb65",
   "metadata": {},
   "source": [
    "### TASK3:-> Provide a table with the frequency of complaint types."
   ]
  },
  {
   "cell_type": "code",
   "execution_count": 25,
   "id": "9ae75d29",
   "metadata": {},
   "outputs": [
    {
     "data": {
      "text/plain": [
       "comcast                                                            102\n",
       "comcast data cap                                                    30\n",
       "comcast internet                                                    29\n",
       "comcast data caps                                                   21\n",
       "comcast billing                                                     18\n",
       "                                                                  ... \n",
       "monthly data caps                                                    1\n",
       "comcast/xfinity poor service, fraudulent billing and collection      1\n",
       "lost emails/billing                                                  1\n",
       "improper billing and non resolution of issues                        1\n",
       "comcast, ypsilanti mi internet speed                                 1\n",
       "Name: Customer Complaint, Length: 1740, dtype: int64"
      ]
     },
     "execution_count": 25,
     "metadata": {},
     "output_type": "execute_result"
    }
   ],
   "source": [
    "df['Customer Complaint'].str.lower().value_counts()"
   ]
  },
  {
   "cell_type": "code",
   "execution_count": 34,
   "id": "a6514937",
   "metadata": {},
   "outputs": [
    {
     "data": {
      "text/plain": [
       "<AxesSubplot:>"
      ]
     },
     "execution_count": 34,
     "metadata": {},
     "output_type": "execute_result"
    },
    {
     "data": {
      "image/png": "[encoded data removed]",
      "text/plain": [
       "<Figure size 432x288 with 1 Axes>"
      ]
     },
     "metadata": {
      "needs_background": "light"
     },
     "output_type": "display_data"
    }
   ],
   "source": [
    "df['Customer Complaint'].value_counts(dropna=False)[:9].plot.bar()"
   ]
  },
  {
   "cell_type": "markdown",
   "id": "48e8a116",
   "metadata": {},
   "source": [
    "### Task 4- Which complaint types are maximum i.e. around internet, network issues, or across any other domains.."
   ]
  },
  {
   "cell_type": "code",
   "execution_count": 37,
   "id": "01ecc2f3",
   "metadata": {},
   "outputs": [],
   "source": [
    "internet_issues1=df[df['Customer Complaint'].str.contains(\"network\")].count()\n",
    "internet_issues2=df[df['Customer Complaint'].str.contains(\"speed\")].count()\n",
    "internet_issues3=df[df['Customer Complaint'].str.contains(\"data\")].count()\n",
    "internet_issues4=df[df['Customer Complaint'].str.contains(\"internet\")].count()\n",
    "billing_issues1=df[df['Customer Complaint'].str.contains(\"bill\")].count()\n",
    "billing_issues2=df[df['Customer Complaint'].str.contains(\"billing\")].count()\n",
    "billing_issues3=df[df['Customer Complaint'].str.contains(\"charges\")].count()\n",
    "service_issues1=df[df['Customer Complaint'].str.contains(\"service\")].count()\n",
    "service_issues2=df[df['Customer Complaint'].str.contains(\"customer\")].count()"
   ]
  },
  {
   "cell_type": "code",
   "execution_count": 38,
   "id": "b6ddfcbf",
   "metadata": {},
   "outputs": [
    {
     "name": "stdout",
     "output_type": "stream",
     "text": [
      "Ticket #                       374\n",
      "Customer Complaint             374\n",
      "Date                           374\n",
      "Date_month_year                374\n",
      "Time                           374\n",
      "Received Via                   374\n",
      "City                           374\n",
      "State                          374\n",
      "Zip code                       374\n",
      "Status                         374\n",
      "Filing on Behalf of Someone    374\n",
      "date_col                       374\n",
      "month                          374\n",
      "day                            374\n",
      "new_col                        374\n",
      "dtype: int64\n"
     ]
    }
   ],
   "source": [
    "total_internet_issues=internet_issues1+internet_issues2+internet_issues3+internet_issues4\n",
    "print(total_internet_issues)"
   ]
  },
  {
   "cell_type": "code",
   "execution_count": 39,
   "id": "2fd2f135",
   "metadata": {},
   "outputs": [
    {
     "name": "stdout",
     "output_type": "stream",
     "text": [
      "Ticket #                       353\n",
      "Customer Complaint             353\n",
      "Date                           353\n",
      "Date_month_year                353\n",
      "Time                           353\n",
      "Received Via                   353\n",
      "City                           353\n",
      "State                          353\n",
      "Zip code                       353\n",
      "Status                         353\n",
      "Filing on Behalf of Someone    353\n",
      "date_col                       353\n",
      "month                          353\n",
      "day                            353\n",
      "new_col                        353\n",
      "dtype: int64\n"
     ]
    }
   ],
   "source": [
    "total_billing_issues=billing_issues1+billing_issues2+billing_issues3\n",
    "print(total_billing_issues)"
   ]
  },
  {
   "cell_type": "code",
   "execution_count": 40,
   "id": "43366a24",
   "metadata": {},
   "outputs": [
    {
     "name": "stdout",
     "output_type": "stream",
     "text": [
      "Ticket #                       360\n",
      "Customer Complaint             360\n",
      "Date                           360\n",
      "Date_month_year                360\n",
      "Time                           360\n",
      "Received Via                   360\n",
      "City                           360\n",
      "State                          360\n",
      "Zip code                       360\n",
      "Status                         360\n",
      "Filing on Behalf of Someone    360\n",
      "date_col                       360\n",
      "month                          360\n",
      "day                            360\n",
      "new_col                        360\n",
      "dtype: int64\n"
     ]
    }
   ],
   "source": [
    "total_service_issues=service_issues1+service_issues2\n",
    "print(total_service_issues)"
   ]
  },
  {
   "cell_type": "code",
   "execution_count": 41,
   "id": "53345874",
   "metadata": {},
   "outputs": [
    {
     "name": "stdout",
     "output_type": "stream",
     "text": [
      "Ticket #                       1137\n",
      "Customer Complaint             1137\n",
      "Date                           1137\n",
      "Date_month_year                1137\n",
      "Time                           1137\n",
      "Received Via                   1137\n",
      "City                           1137\n",
      "State                          1137\n",
      "Zip code                       1137\n",
      "Status                         1137\n",
      "Filing on Behalf of Someone    1137\n",
      "date_col                       1137\n",
      "month                          1137\n",
      "day                            1137\n",
      "new_col                        1137\n",
      "dtype: int64\n"
     ]
    }
   ],
   "source": [
    "other_issues=2224-(total_internet_issues+total_billing_issues+total_service_issues)\n",
    "print(other_issues)"
   ]
  },
  {
   "cell_type": "markdown",
   "id": "d2b647ef",
   "metadata": {},
   "source": [
    "### TASK 5 :-> Create a new categorical variable with value as Open and Closed. Open & Pending is to be categorized as Open and Closed & Solved is to be categorized as Closed."
   ]
  },
  {
   "cell_type": "code",
   "execution_count": 28,
   "id": "d7fffaa2",
   "metadata": {},
   "outputs": [
    {
     "data": {
      "text/plain": [
       "array(['Closed', 'Open', 'Solved', 'Pending'], dtype=object)"
      ]
     },
     "execution_count": 28,
     "metadata": {},
     "output_type": "execute_result"
    }
   ],
   "source": [
    "df['Status'].unique()"
   ]
  },
  {
   "cell_type": "code",
   "execution_count": 32,
   "id": "ea17599c",
   "metadata": {},
   "outputs": [],
   "source": [
    "df['new_col'] = ['open' if x in ['Open','Pending'] else 'closed' for x in df['Status']]"
   ]
  },
  {
   "cell_type": "code",
   "execution_count": 46,
   "id": "e9124e74",
   "metadata": {},
   "outputs": [
    {
     "data": {
      "text/html": [
       "<div>\n",
       "<style scoped>\n",
       "    .dataframe tbody tr th:only-of-type {\n",
       "        vertical-align: middle;\n",
       "    }\n",
       "\n",
       "    .dataframe tbody tr th {\n",
       "        vertical-align: top;\n",
       "    }\n",
       "\n",
       "    .dataframe thead th {\n",
       "        text-align: right;\n",
       "    }\n",
       "</style>\n",
       "<table border=\"1\" class=\"dataframe\">\n",
       "  <thead>\n",
       "    <tr style=\"text-align: right;\">\n",
       "      <th></th>\n",
       "      <th>Ticket #</th>\n",
       "      <th>Customer Complaint</th>\n",
       "      <th>Date</th>\n",
       "      <th>Date_month_year</th>\n",
       "      <th>Time</th>\n",
       "      <th>Received Via</th>\n",
       "      <th>City</th>\n",
       "      <th>State</th>\n",
       "      <th>Zip code</th>\n",
       "      <th>Status</th>\n",
       "      <th>Filing on Behalf of Someone</th>\n",
       "      <th>date_col</th>\n",
       "      <th>month</th>\n",
       "      <th>day</th>\n",
       "      <th>new_col</th>\n",
       "    </tr>\n",
       "  </thead>\n",
       "  <tbody>\n",
       "    <tr>\n",
       "      <th>0</th>\n",
       "      <td>250635</td>\n",
       "      <td>Comcast Cable Internet Speeds</td>\n",
       "      <td>22-04-15</td>\n",
       "      <td>22-Apr-15</td>\n",
       "      <td>3:53:50 PM</td>\n",
       "      <td>Customer Care Call</td>\n",
       "      <td>Abingdon</td>\n",
       "      <td>Maryland</td>\n",
       "      <td>21009</td>\n",
       "      <td>Closed</td>\n",
       "      <td>No</td>\n",
       "      <td>2015-04-22</td>\n",
       "      <td>4</td>\n",
       "      <td>22</td>\n",
       "      <td>closed</td>\n",
       "    </tr>\n",
       "    <tr>\n",
       "      <th>1</th>\n",
       "      <td>223441</td>\n",
       "      <td>Payment disappear - service got disconnected</td>\n",
       "      <td>04-08-15</td>\n",
       "      <td>04-Aug-15</td>\n",
       "      <td>10:22:56 AM</td>\n",
       "      <td>Internet</td>\n",
       "      <td>Acworth</td>\n",
       "      <td>Georgia</td>\n",
       "      <td>30102</td>\n",
       "      <td>Closed</td>\n",
       "      <td>No</td>\n",
       "      <td>2015-08-04</td>\n",
       "      <td>8</td>\n",
       "      <td>4</td>\n",
       "      <td>closed</td>\n",
       "    </tr>\n",
       "    <tr>\n",
       "      <th>2</th>\n",
       "      <td>242732</td>\n",
       "      <td>Speed and Service</td>\n",
       "      <td>18-04-15</td>\n",
       "      <td>18-Apr-15</td>\n",
       "      <td>9:55:47 AM</td>\n",
       "      <td>Internet</td>\n",
       "      <td>Acworth</td>\n",
       "      <td>Georgia</td>\n",
       "      <td>30101</td>\n",
       "      <td>Closed</td>\n",
       "      <td>Yes</td>\n",
       "      <td>2015-04-18</td>\n",
       "      <td>4</td>\n",
       "      <td>18</td>\n",
       "      <td>closed</td>\n",
       "    </tr>\n",
       "    <tr>\n",
       "      <th>3</th>\n",
       "      <td>277946</td>\n",
       "      <td>Comcast Imposed a New Usage Cap of 300GB that ...</td>\n",
       "      <td>05-07-15</td>\n",
       "      <td>05-Jul-15</td>\n",
       "      <td>11:59:35 AM</td>\n",
       "      <td>Internet</td>\n",
       "      <td>Acworth</td>\n",
       "      <td>Georgia</td>\n",
       "      <td>30101</td>\n",
       "      <td>Open</td>\n",
       "      <td>Yes</td>\n",
       "      <td>2015-07-05</td>\n",
       "      <td>7</td>\n",
       "      <td>5</td>\n",
       "      <td>open</td>\n",
       "    </tr>\n",
       "    <tr>\n",
       "      <th>4</th>\n",
       "      <td>307175</td>\n",
       "      <td>Comcast not working and no service to boot</td>\n",
       "      <td>26-05-15</td>\n",
       "      <td>26-May-15</td>\n",
       "      <td>1:25:26 PM</td>\n",
       "      <td>Internet</td>\n",
       "      <td>Acworth</td>\n",
       "      <td>Georgia</td>\n",
       "      <td>30101</td>\n",
       "      <td>Solved</td>\n",
       "      <td>No</td>\n",
       "      <td>2015-05-26</td>\n",
       "      <td>5</td>\n",
       "      <td>26</td>\n",
       "      <td>closed</td>\n",
       "    </tr>\n",
       "  </tbody>\n",
       "</table>\n",
       "</div>"
      ],
      "text/plain": [
       "  Ticket #                                 Customer Complaint      Date  \\\n",
       "0   250635                      Comcast Cable Internet Speeds  22-04-15   \n",
       "1   223441       Payment disappear - service got disconnected  04-08-15   \n",
       "2   242732                                  Speed and Service  18-04-15   \n",
       "3   277946  Comcast Imposed a New Usage Cap of 300GB that ...  05-07-15   \n",
       "4   307175         Comcast not working and no service to boot  26-05-15   \n",
       "\n",
       "  Date_month_year         Time        Received Via      City     State  \\\n",
       "0       22-Apr-15   3:53:50 PM  Customer Care Call  Abingdon  Maryland   \n",
       "1       04-Aug-15  10:22:56 AM            Internet   Acworth   Georgia   \n",
       "2       18-Apr-15   9:55:47 AM            Internet   Acworth   Georgia   \n",
       "3       05-Jul-15  11:59:35 AM            Internet   Acworth   Georgia   \n",
       "4       26-May-15   1:25:26 PM            Internet   Acworth   Georgia   \n",
       "\n",
       "   Zip code  Status Filing on Behalf of Someone   date_col  month  day new_col  \n",
       "0     21009  Closed                          No 2015-04-22      4   22  closed  \n",
       "1     30102  Closed                          No 2015-08-04      8    4  closed  \n",
       "2     30101  Closed                         Yes 2015-04-18      4   18  closed  \n",
       "3     30101    Open                         Yes 2015-07-05      7    5    open  \n",
       "4     30101  Solved                          No 2015-05-26      5   26  closed  "
      ]
     },
     "execution_count": 46,
     "metadata": {},
     "output_type": "execute_result"
    }
   ],
   "source": [
    "df.head(5)"
   ]
  },
  {
   "cell_type": "markdown",
   "id": "67ce7843",
   "metadata": {},
   "source": [
    "### Task 5 :->  Which state has the maximum complaints"
   ]
  },
  {
   "cell_type": "code",
   "execution_count": 42,
   "id": "6582e6d8",
   "metadata": {},
   "outputs": [
    {
     "data": {
      "text/plain": [
       "State\n",
       "Georgia       288\n",
       "Florida       240\n",
       "California    220\n",
       "Illinois      164\n",
       "Tennessee     143\n",
       "dtype: int64"
      ]
     },
     "execution_count": 42,
     "metadata": {},
     "output_type": "execute_result"
    }
   ],
   "source": [
    "df.groupby([\"State\"]).size().sort_values(ascending=False)[:5]"
   ]
  },
  {
   "cell_type": "markdown",
   "id": "5253806f",
   "metadata": {},
   "source": [
    "### Task 6- Provide state wise status of complaints in a stacked bar chart"
   ]
  },
  {
   "cell_type": "code",
   "execution_count": 62,
   "id": "242798d4",
   "metadata": {},
   "outputs": [],
   "source": [
    "df['State'] = df['State'].str.lower() "
   ]
  },
  {
   "cell_type": "code",
   "execution_count": 63,
   "id": "90717221",
   "metadata": {},
   "outputs": [],
   "source": [
    "df1 = df[['State' , 'new_col','Ticket #']].groupby(['State' , 'new_col']).count().unstack().fillna(0)"
   ]
  },
  {
   "cell_type": "code",
   "execution_count": 64,
   "id": "e51e478a",
   "metadata": {},
   "outputs": [],
   "source": [
    "df1.columns = [ b for a , b in df1.columns]"
   ]
  },
  {
   "cell_type": "code",
   "execution_count": 65,
   "id": "dd5a5c4b",
   "metadata": {},
   "outputs": [
    {
     "data": {
      "text/plain": [
       "Index(['closed', 'open'], dtype='object')"
      ]
     },
     "execution_count": 65,
     "metadata": {},
     "output_type": "execute_result"
    }
   ],
   "source": [
    "df1.columns"
   ]
  },
  {
   "cell_type": "code",
   "execution_count": 61,
   "id": "5134edf8",
   "metadata": {},
   "outputs": [
    {
     "data": {
      "text/plain": [
       "<AxesSubplot:xlabel='State'>"
      ]
     },
     "execution_count": 61,
     "metadata": {},
     "output_type": "execute_result"
    },
    {
     "data": {
      "image/png": "[encoded data removed]",
      "text/plain": [
       "<Figure size 1080x360 with 1 Axes>"
      ]
     },
     "metadata": {
      "needs_background": "light"
     },
     "output_type": "display_data"
    }
   ],
   "source": [
    "df1.plot(kind = 'bar', stacked = True , figsize = (15,5))"
   ]
  },
  {
   "cell_type": "markdown",
   "id": "a30319fe",
   "metadata": {},
   "source": [
    "### TASK 7 :->  Which state has the maximum complaints\n",
    "### Ans:-> As per stacked bar chart \"Georgia\" has the maximum complaints"
   ]
  },
  {
   "cell_type": "markdown",
   "id": "a658dbef",
   "metadata": {},
   "source": [
    "### TASK 8 :-> Which state has the highest percentage of unresolved complaints"
   ]
  },
  {
   "cell_type": "code",
   "execution_count": 67,
   "id": "92cb81a6",
   "metadata": {},
   "outputs": [],
   "source": [
    "df1['percent_of_unresolved_columns'] = (df1['closed'] / df1.sum(axis = 1))*100"
   ]
  },
  {
   "cell_type": "code",
   "execution_count": 81,
   "id": "b8d6f002",
   "metadata": {},
   "outputs": [
    {
     "data": {
      "text/plain": [
       "<AxesSubplot:xlabel='State'>"
      ]
     },
     "execution_count": 81,
     "metadata": {},
     "output_type": "execute_result"
    },
    {
     "data": {
      "image/png": "[encoded data removed]",
      "text/plain": [
       "<Figure size 1080x360 with 1 Axes>"
      ]
     },
     "metadata": {
      "needs_background": "light"
     },
     "output_type": "display_data"
    }
   ],
   "source": [
    "df1['percent_of_unresolved_columns'].plot(kind=\"bar\", figsize=(15,5))"
   ]
  },
  {
   "cell_type": "code",
   "execution_count": null,
   "id": "3ac23b4b",
   "metadata": {},
   "outputs": [],
   "source": []
  },
  {
   "cell_type": "markdown",
   "id": "4056413d",
   "metadata": {},
   "source": [
    "### Task 8- Provide the percentage of complaints resolved till date, which were received through the internet and customer care calls\n"
   ]
  },
  {
   "cell_type": "code",
   "execution_count": 83,
   "id": "59266129",
   "metadata": {},
   "outputs": [],
   "source": [
    "df['Received Via'] = df['Received Via'].str.lower()"
   ]
  },
  {
   "cell_type": "code",
   "execution_count": 84,
   "id": "68b2d471",
   "metadata": {},
   "outputs": [
    {
     "data": {
      "text/plain": [
       "array(['customer care call', 'internet'], dtype=object)"
      ]
     },
     "execution_count": 84,
     "metadata": {},
     "output_type": "execute_result"
    }
   ],
   "source": [
    "df['Received Via'].unique()"
   ]
  },
  {
   "cell_type": "code",
   "execution_count": 88,
   "id": "2637a674",
   "metadata": {},
   "outputs": [
    {
     "data": {
      "text/plain": [
       "0.23246402877697842"
      ]
     },
     "execution_count": 88,
     "metadata": {},
     "output_type": "execute_result"
    }
   ],
   "source": [
    "df[df['new_col'] == 'open'].shape[0] / len(df)"
   ]
  },
  {
   "cell_type": "code",
   "execution_count": null,
   "id": "7c800f0a",
   "metadata": {},
   "outputs": [],
   "source": []
  }
 ],
 "metadata": {
  "kernelspec": {
   "display_name": "Python 3 (ipykernel)",
   "language": "python",
   "name": "python3"
  },
  "language_info": {
   "codemirror_mode": {
    "name": "ipython",
    "version": 3
   },
   "file_extension": ".py",
   "mimetype": "text/x-python",
   "name": "python",
   "nbconvert_exporter": "python",
   "pygments_lexer": "ipython3",
   "version": "3.9.12"
  }
 },
 "nbformat": 4,
 "nbformat_minor": 5
}
